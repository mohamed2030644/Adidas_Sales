{
 "cells": [
  {
   "cell_type": "markdown",
   "id": "ae92e623",
   "metadata": {
    "papermill": {
     "duration": 0.014617,
     "end_time": "2024-11-27T19:35:57.162762",
     "exception": false,
     "start_time": "2024-11-27T19:35:57.148145",
     "status": "completed"
    },
    "tags": []
   },
   "source": [
    "## 1️⃣Loading Data & Libraries"
   ]
  },
  {
   "cell_type": "code",
   "execution_count": 82,
   "id": "a83cb86a",
   "metadata": {
    "execution": {
     "iopub.execute_input": "2024-11-27T19:35:57.190759Z",
     "iopub.status.busy": "2024-11-27T19:35:57.190377Z",
     "iopub.status.idle": "2024-11-27T19:35:59.701244Z",
     "shell.execute_reply": "2024-11-27T19:35:59.700319Z"
    },
    "papermill": {
     "duration": 2.527139,
     "end_time": "2024-11-27T19:35:59.704037",
     "exception": false,
     "start_time": "2024-11-27T19:35:57.176898",
     "status": "completed"
    },
    "tags": []
   },
   "outputs": [],
   "source": [
    "import numpy as np\n",
    "import pandas as pd\n",
    "import matplotlib.pyplot as plt\n",
    "import seaborn as sns\n",
    "\n",
    "# set style\n",
    "sns.set_style(\"darkgrid\")\n",
    "sns.set_palette(\"RdBu\")"
   ]
  },
  {
   "cell_type": "code",
   "execution_count": 83,
   "id": "dde61a94",
   "metadata": {
    "execution": {
     "iopub.execute_input": "2024-11-27T19:35:59.732035Z",
     "iopub.status.busy": "2024-11-27T19:35:59.731475Z",
     "iopub.status.idle": "2024-11-27T19:36:00.186662Z",
     "shell.execute_reply": "2024-11-27T19:36:00.185646Z"
    },
    "papermill": {
     "duration": 0.471801,
     "end_time": "2024-11-27T19:36:00.188989",
     "exception": false,
     "start_time": "2024-11-27T19:35:59.717188",
     "status": "completed"
    },
    "tags": []
   },
   "outputs": [],
   "source": [
    "# read data \n",
    "data = pd.read_csv(\"Adidas_Sales.csv\")"
   ]
  },
  {
   "cell_type": "code",
   "execution_count": 84,
   "id": "177cb454",
   "metadata": {
    "execution": {
     "iopub.execute_input": "2024-11-27T19:36:00.215760Z",
     "iopub.status.busy": "2024-11-27T19:36:00.215238Z",
     "iopub.status.idle": "2024-11-27T19:36:00.236753Z",
     "shell.execute_reply": "2024-11-27T19:36:00.235677Z"
    },
    "papermill": {
     "duration": 0.037225,
     "end_time": "2024-11-27T19:36:00.238773",
     "exception": false,
     "start_time": "2024-11-27T19:36:00.201548",
     "status": "completed"
    },
    "tags": []
   },
   "outputs": [
    {
     "data": {
      "text/html": [
       "<div>\n",
       "<style scoped>\n",
       "    .dataframe tbody tr th:only-of-type {\n",
       "        vertical-align: middle;\n",
       "    }\n",
       "\n",
       "    .dataframe tbody tr th {\n",
       "        vertical-align: top;\n",
       "    }\n",
       "\n",
       "    .dataframe thead th {\n",
       "        text-align: right;\n",
       "    }\n",
       "</style>\n",
       "<table border=\"1\" class=\"dataframe\">\n",
       "  <thead>\n",
       "    <tr style=\"text-align: right;\">\n",
       "      <th></th>\n",
       "      <th>Retailer</th>\n",
       "      <th>Retailer ID</th>\n",
       "      <th>Invoice Date</th>\n",
       "      <th>Region</th>\n",
       "      <th>State</th>\n",
       "      <th>City</th>\n",
       "      <th>Product</th>\n",
       "      <th>Price per Unit</th>\n",
       "      <th>Units Sold</th>\n",
       "      <th>Total Sales</th>\n",
       "      <th>Operating Profit</th>\n",
       "      <th>Sales Method</th>\n",
       "    </tr>\n",
       "  </thead>\n",
       "  <tbody>\n",
       "    <tr>\n",
       "      <th>0</th>\n",
       "      <td>Walmart</td>\n",
       "      <td>1128299</td>\n",
       "      <td>6/17/2021</td>\n",
       "      <td>Southeast</td>\n",
       "      <td>Florida</td>\n",
       "      <td>Orlando</td>\n",
       "      <td>Women's Apparel</td>\n",
       "      <td>$103.00</td>\n",
       "      <td>218</td>\n",
       "      <td>2,245</td>\n",
       "      <td>$1,257</td>\n",
       "      <td>Online</td>\n",
       "    </tr>\n",
       "    <tr>\n",
       "      <th>1</th>\n",
       "      <td>West Gear</td>\n",
       "      <td>1128299</td>\n",
       "      <td>7/16/2021</td>\n",
       "      <td>South</td>\n",
       "      <td>Louisiana</td>\n",
       "      <td>New Orleans</td>\n",
       "      <td>Women's Apparel</td>\n",
       "      <td>$103.00</td>\n",
       "      <td>163</td>\n",
       "      <td>1,679</td>\n",
       "      <td>$806</td>\n",
       "      <td>Online</td>\n",
       "    </tr>\n",
       "    <tr>\n",
       "      <th>2</th>\n",
       "      <td>Sports Direct</td>\n",
       "      <td>1197831</td>\n",
       "      <td>8/25/2021</td>\n",
       "      <td>South</td>\n",
       "      <td>Alabama</td>\n",
       "      <td>Birmingham</td>\n",
       "      <td>Men's Street Footwear</td>\n",
       "      <td>$10.00</td>\n",
       "      <td>700</td>\n",
       "      <td>7,000</td>\n",
       "      <td>$3,150</td>\n",
       "      <td>Outlet</td>\n",
       "    </tr>\n",
       "    <tr>\n",
       "      <th>3</th>\n",
       "      <td>Sports Direct</td>\n",
       "      <td>1197831</td>\n",
       "      <td>8/27/2021</td>\n",
       "      <td>South</td>\n",
       "      <td>Alabama</td>\n",
       "      <td>Birmingham</td>\n",
       "      <td>Women's Street Footwear</td>\n",
       "      <td>$15.00</td>\n",
       "      <td>575</td>\n",
       "      <td>8,625</td>\n",
       "      <td>$3,881</td>\n",
       "      <td>Outlet</td>\n",
       "    </tr>\n",
       "    <tr>\n",
       "      <th>4</th>\n",
       "      <td>Sports Direct</td>\n",
       "      <td>1197831</td>\n",
       "      <td>8/21/2021</td>\n",
       "      <td>South</td>\n",
       "      <td>Alabama</td>\n",
       "      <td>Birmingham</td>\n",
       "      <td>Women's Street Footwear</td>\n",
       "      <td>$15.00</td>\n",
       "      <td>475</td>\n",
       "      <td>7,125</td>\n",
       "      <td>$3,206</td>\n",
       "      <td>Outlet</td>\n",
       "    </tr>\n",
       "  </tbody>\n",
       "</table>\n",
       "</div>"
      ],
      "text/plain": [
       "        Retailer  Retailer ID Invoice Date     Region      State         City  \\\n",
       "0        Walmart      1128299    6/17/2021  Southeast    Florida      Orlando   \n",
       "1      West Gear      1128299    7/16/2021      South  Louisiana  New Orleans   \n",
       "2  Sports Direct      1197831    8/25/2021      South    Alabama   Birmingham   \n",
       "3  Sports Direct      1197831    8/27/2021      South    Alabama   Birmingham   \n",
       "4  Sports Direct      1197831    8/21/2021      South    Alabama   Birmingham   \n",
       "\n",
       "                   Product Price per Unit Units Sold Total Sales  \\\n",
       "0          Women's Apparel       $103.00         218       2,245   \n",
       "1          Women's Apparel       $103.00         163       1,679   \n",
       "2    Men's Street Footwear        $10.00         700       7,000   \n",
       "3  Women's Street Footwear        $15.00         575       8,625   \n",
       "4  Women's Street Footwear        $15.00         475       7,125   \n",
       "\n",
       "  Operating Profit Sales Method  \n",
       "0          $1,257        Online  \n",
       "1            $806        Online  \n",
       "2          $3,150        Outlet  \n",
       "3          $3,881        Outlet  \n",
       "4          $3,206        Outlet  "
      ]
     },
     "execution_count": 84,
     "metadata": {},
     "output_type": "execute_result"
    }
   ],
   "source": [
    "# see top 5 rows\n",
    "\n",
    "data.head()"
   ]
  },
  {
   "cell_type": "code",
   "execution_count": 85,
   "id": "a4a50482",
   "metadata": {
    "execution": {
     "iopub.execute_input": "2024-11-27T19:36:00.265930Z",
     "iopub.status.busy": "2024-11-27T19:36:00.265537Z",
     "iopub.status.idle": "2024-11-27T19:36:00.271649Z",
     "shell.execute_reply": "2024-11-27T19:36:00.270630Z"
    },
    "papermill": {
     "duration": 0.021981,
     "end_time": "2024-11-27T19:36:00.273569",
     "exception": false,
     "start_time": "2024-11-27T19:36:00.251588",
     "status": "completed"
    },
    "tags": []
   },
   "outputs": [
    {
     "data": {
      "text/plain": [
       "(9641, 12)"
      ]
     },
     "execution_count": 85,
     "metadata": {},
     "output_type": "execute_result"
    }
   ],
   "source": [
    "# see number of rows and columns\n",
    "\n",
    "data.shape"
   ]
  },
  {
   "cell_type": "code",
   "execution_count": 86,
   "id": "d9c62ac5",
   "metadata": {
    "execution": {
     "iopub.execute_input": "2024-11-27T19:36:00.301125Z",
     "iopub.status.busy": "2024-11-27T19:36:00.300751Z",
     "iopub.status.idle": "2024-11-27T19:36:00.308630Z",
     "shell.execute_reply": "2024-11-27T19:36:00.307741Z"
    },
    "papermill": {
     "duration": 0.024157,
     "end_time": "2024-11-27T19:36:00.310672",
     "exception": false,
     "start_time": "2024-11-27T19:36:00.286515",
     "status": "completed"
    },
    "tags": []
   },
   "outputs": [
    {
     "data": {
      "text/plain": [
       "Retailer            0\n",
       "Retailer ID         0\n",
       "Invoice Date        0\n",
       "Region              0\n",
       "State               0\n",
       "City                0\n",
       "Product             0\n",
       "Price per Unit      2\n",
       "Units Sold          0\n",
       "Total Sales         0\n",
       "Operating Profit    0\n",
       "Sales Method        0\n",
       "dtype: int64"
      ]
     },
     "execution_count": 86,
     "metadata": {},
     "output_type": "execute_result"
    }
   ],
   "source": [
    "# check missing values\n",
    "\n",
    "data.isna().sum()"
   ]
  },
  {
   "cell_type": "code",
   "execution_count": 87,
   "id": "af3ba931",
   "metadata": {},
   "outputs": [
    {
     "data": {
      "text/html": [
       "<div>\n",
       "<style scoped>\n",
       "    .dataframe tbody tr th:only-of-type {\n",
       "        vertical-align: middle;\n",
       "    }\n",
       "\n",
       "    .dataframe tbody tr th {\n",
       "        vertical-align: top;\n",
       "    }\n",
       "\n",
       "    .dataframe thead th {\n",
       "        text-align: right;\n",
       "    }\n",
       "</style>\n",
       "<table border=\"1\" class=\"dataframe\">\n",
       "  <thead>\n",
       "    <tr style=\"text-align: right;\">\n",
       "      <th></th>\n",
       "      <th>Retailer</th>\n",
       "      <th>Retailer ID</th>\n",
       "      <th>Invoice Date</th>\n",
       "      <th>Region</th>\n",
       "      <th>State</th>\n",
       "      <th>City</th>\n",
       "      <th>Product</th>\n",
       "      <th>Price per Unit</th>\n",
       "      <th>Units Sold</th>\n",
       "      <th>Total Sales</th>\n",
       "      <th>Operating Profit</th>\n",
       "      <th>Sales Method</th>\n",
       "    </tr>\n",
       "  </thead>\n",
       "  <tbody>\n",
       "    <tr>\n",
       "      <th>6725</th>\n",
       "      <td>Foot Locker</td>\n",
       "      <td>1185732</td>\n",
       "      <td>1/29/2020</td>\n",
       "      <td>Northeast</td>\n",
       "      <td>New York</td>\n",
       "      <td>New York</td>\n",
       "      <td>Men's Apparel</td>\n",
       "      <td>NaN</td>\n",
       "      <td>850</td>\n",
       "      <td>51,000</td>\n",
       "      <td>$15,300</td>\n",
       "      <td>Outlet</td>\n",
       "    </tr>\n",
       "    <tr>\n",
       "      <th>7882</th>\n",
       "      <td>Sports Direct</td>\n",
       "      <td>1197831</td>\n",
       "      <td>7/29/2020</td>\n",
       "      <td>South</td>\n",
       "      <td>Texas</td>\n",
       "      <td>Houston</td>\n",
       "      <td>Men's Apparel</td>\n",
       "      <td>NaN</td>\n",
       "      <td>500</td>\n",
       "      <td>20,000</td>\n",
       "      <td>$6,000</td>\n",
       "      <td>Outlet</td>\n",
       "    </tr>\n",
       "  </tbody>\n",
       "</table>\n",
       "</div>"
      ],
      "text/plain": [
       "           Retailer  Retailer ID Invoice Date     Region     State      City  \\\n",
       "6725    Foot Locker      1185732    1/29/2020  Northeast  New York  New York   \n",
       "7882  Sports Direct      1197831    7/29/2020      South     Texas   Houston   \n",
       "\n",
       "            Product Price per Unit Units Sold Total Sales Operating Profit  \\\n",
       "6725  Men's Apparel            NaN        850      51,000         $15,300    \n",
       "7882  Men's Apparel            NaN        500      20,000          $6,000    \n",
       "\n",
       "     Sales Method  \n",
       "6725       Outlet  \n",
       "7882       Outlet  "
      ]
     },
     "execution_count": 87,
     "metadata": {},
     "output_type": "execute_result"
    }
   ],
   "source": [
    "# show values equal nan \n",
    "data[data.isna().any(axis=1)]"
   ]
  },
  {
   "cell_type": "code",
   "execution_count": 88,
   "id": "73287a72",
   "metadata": {},
   "outputs": [],
   "source": [
    "# drop values equal nan\n",
    "data.dropna(subset=['Price per Unit'], inplace = True)"
   ]
  },
  {
   "cell_type": "code",
   "execution_count": 89,
   "id": "c66f3baa",
   "metadata": {
    "execution": {
     "iopub.execute_input": "2024-11-27T19:36:00.338888Z",
     "iopub.status.busy": "2024-11-27T19:36:00.338478Z",
     "iopub.status.idle": "2024-11-27T19:36:00.363303Z",
     "shell.execute_reply": "2024-11-27T19:36:00.362255Z"
    },
    "papermill": {
     "duration": 0.041805,
     "end_time": "2024-11-27T19:36:00.365539",
     "exception": false,
     "start_time": "2024-11-27T19:36:00.323734",
     "status": "completed"
    },
    "tags": []
   },
   "outputs": [
    {
     "name": "stdout",
     "output_type": "stream",
     "text": [
      "<class 'pandas.core.frame.DataFrame'>\n",
      "Index: 9639 entries, 0 to 9640\n",
      "Data columns (total 12 columns):\n",
      " #   Column            Non-Null Count  Dtype \n",
      "---  ------            --------------  ----- \n",
      " 0   Retailer          9639 non-null   object\n",
      " 1   Retailer ID       9639 non-null   int64 \n",
      " 2   Invoice Date      9639 non-null   object\n",
      " 3   Region            9639 non-null   object\n",
      " 4   State             9639 non-null   object\n",
      " 5   City              9639 non-null   object\n",
      " 6   Product           9639 non-null   object\n",
      " 7   Price per Unit    9639 non-null   object\n",
      " 8   Units Sold        9639 non-null   object\n",
      " 9   Total Sales       9639 non-null   object\n",
      " 10  Operating Profit  9639 non-null   object\n",
      " 11  Sales Method      9639 non-null   object\n",
      "dtypes: int64(1), object(11)\n",
      "memory usage: 979.0+ KB\n"
     ]
    }
   ],
   "source": [
    "# see columns data type\n",
    "\n",
    "data.info()"
   ]
  },
  {
   "cell_type": "code",
   "execution_count": 90,
   "id": "1cefbd0b",
   "metadata": {},
   "outputs": [
    {
     "data": {
      "text/html": [
       "<div>\n",
       "<style scoped>\n",
       "    .dataframe tbody tr th:only-of-type {\n",
       "        vertical-align: middle;\n",
       "    }\n",
       "\n",
       "    .dataframe tbody tr th {\n",
       "        vertical-align: top;\n",
       "    }\n",
       "\n",
       "    .dataframe thead th {\n",
       "        text-align: right;\n",
       "    }\n",
       "</style>\n",
       "<table border=\"1\" class=\"dataframe\">\n",
       "  <thead>\n",
       "    <tr style=\"text-align: right;\">\n",
       "      <th></th>\n",
       "      <th>Retailer</th>\n",
       "      <th>Retailer ID</th>\n",
       "      <th>Invoice Date</th>\n",
       "      <th>Region</th>\n",
       "      <th>State</th>\n",
       "      <th>City</th>\n",
       "      <th>Product</th>\n",
       "      <th>Price per Unit</th>\n",
       "      <th>Units Sold</th>\n",
       "      <th>Total Sales</th>\n",
       "      <th>Operating Profit</th>\n",
       "      <th>Sales Method</th>\n",
       "    </tr>\n",
       "  </thead>\n",
       "  <tbody>\n",
       "    <tr>\n",
       "      <th>0</th>\n",
       "      <td>Walmart</td>\n",
       "      <td>1128299</td>\n",
       "      <td>6/17/2021</td>\n",
       "      <td>Southeast</td>\n",
       "      <td>Florida</td>\n",
       "      <td>Orlando</td>\n",
       "      <td>Women's Apparel</td>\n",
       "      <td>103.00</td>\n",
       "      <td>218</td>\n",
       "      <td>2,245</td>\n",
       "      <td>1,257</td>\n",
       "      <td>Online</td>\n",
       "    </tr>\n",
       "    <tr>\n",
       "      <th>1</th>\n",
       "      <td>West Gear</td>\n",
       "      <td>1128299</td>\n",
       "      <td>7/16/2021</td>\n",
       "      <td>South</td>\n",
       "      <td>Louisiana</td>\n",
       "      <td>New Orleans</td>\n",
       "      <td>Women's Apparel</td>\n",
       "      <td>103.00</td>\n",
       "      <td>163</td>\n",
       "      <td>1,679</td>\n",
       "      <td>806</td>\n",
       "      <td>Online</td>\n",
       "    </tr>\n",
       "    <tr>\n",
       "      <th>2</th>\n",
       "      <td>Sports Direct</td>\n",
       "      <td>1197831</td>\n",
       "      <td>8/25/2021</td>\n",
       "      <td>South</td>\n",
       "      <td>Alabama</td>\n",
       "      <td>Birmingham</td>\n",
       "      <td>Men's Street Footwear</td>\n",
       "      <td>10.00</td>\n",
       "      <td>700</td>\n",
       "      <td>7,000</td>\n",
       "      <td>3,150</td>\n",
       "      <td>Outlet</td>\n",
       "    </tr>\n",
       "    <tr>\n",
       "      <th>3</th>\n",
       "      <td>Sports Direct</td>\n",
       "      <td>1197831</td>\n",
       "      <td>8/27/2021</td>\n",
       "      <td>South</td>\n",
       "      <td>Alabama</td>\n",
       "      <td>Birmingham</td>\n",
       "      <td>Women's Street Footwear</td>\n",
       "      <td>15.00</td>\n",
       "      <td>575</td>\n",
       "      <td>8,625</td>\n",
       "      <td>3,881</td>\n",
       "      <td>Outlet</td>\n",
       "    </tr>\n",
       "    <tr>\n",
       "      <th>4</th>\n",
       "      <td>Sports Direct</td>\n",
       "      <td>1197831</td>\n",
       "      <td>8/21/2021</td>\n",
       "      <td>South</td>\n",
       "      <td>Alabama</td>\n",
       "      <td>Birmingham</td>\n",
       "      <td>Women's Street Footwear</td>\n",
       "      <td>15.00</td>\n",
       "      <td>475</td>\n",
       "      <td>7,125</td>\n",
       "      <td>3,206</td>\n",
       "      <td>Outlet</td>\n",
       "    </tr>\n",
       "  </tbody>\n",
       "</table>\n",
       "</div>"
      ],
      "text/plain": [
       "        Retailer  Retailer ID Invoice Date     Region      State         City  \\\n",
       "0        Walmart      1128299    6/17/2021  Southeast    Florida      Orlando   \n",
       "1      West Gear      1128299    7/16/2021      South  Louisiana  New Orleans   \n",
       "2  Sports Direct      1197831    8/25/2021      South    Alabama   Birmingham   \n",
       "3  Sports Direct      1197831    8/27/2021      South    Alabama   Birmingham   \n",
       "4  Sports Direct      1197831    8/21/2021      South    Alabama   Birmingham   \n",
       "\n",
       "                   Product Price per Unit Units Sold Total Sales  \\\n",
       "0          Women's Apparel        103.00         218       2,245   \n",
       "1          Women's Apparel        103.00         163       1,679   \n",
       "2    Men's Street Footwear         10.00         700       7,000   \n",
       "3  Women's Street Footwear         15.00         575       8,625   \n",
       "4  Women's Street Footwear         15.00         475       7,125   \n",
       "\n",
       "  Operating Profit Sales Method  \n",
       "0           1,257        Online  \n",
       "1             806        Online  \n",
       "2           3,150        Outlet  \n",
       "3           3,881        Outlet  \n",
       "4           3,206        Outlet  "
      ]
     },
     "execution_count": 90,
     "metadata": {},
     "output_type": "execute_result"
    }
   ],
   "source": [
    "# drop $ from Operating Profit and Price per Unit\n",
    "data['Operating Profit'] = data['Operating Profit'].str.replace('$', '')\n",
    "data['Price per Unit'] = data['Price per Unit'].str.replace('$', '')\n",
    "data.head()"
   ]
  },
  {
   "cell_type": "code",
   "execution_count": 91,
   "id": "c5f41975",
   "metadata": {},
   "outputs": [
    {
     "data": {
      "text/html": [
       "<div>\n",
       "<style scoped>\n",
       "    .dataframe tbody tr th:only-of-type {\n",
       "        vertical-align: middle;\n",
       "    }\n",
       "\n",
       "    .dataframe tbody tr th {\n",
       "        vertical-align: top;\n",
       "    }\n",
       "\n",
       "    .dataframe thead th {\n",
       "        text-align: right;\n",
       "    }\n",
       "</style>\n",
       "<table border=\"1\" class=\"dataframe\">\n",
       "  <thead>\n",
       "    <tr style=\"text-align: right;\">\n",
       "      <th></th>\n",
       "      <th>Retailer</th>\n",
       "      <th>Retailer ID</th>\n",
       "      <th>Invoice Date</th>\n",
       "      <th>Region</th>\n",
       "      <th>State</th>\n",
       "      <th>City</th>\n",
       "      <th>Product</th>\n",
       "      <th>Price per Unit</th>\n",
       "      <th>Units Sold</th>\n",
       "      <th>Total Sales</th>\n",
       "      <th>Operating Profit</th>\n",
       "      <th>Sales Method</th>\n",
       "    </tr>\n",
       "  </thead>\n",
       "  <tbody>\n",
       "    <tr>\n",
       "      <th>0</th>\n",
       "      <td>Walmart</td>\n",
       "      <td>1128299</td>\n",
       "      <td>6/17/2021</td>\n",
       "      <td>Southeast</td>\n",
       "      <td>Florida</td>\n",
       "      <td>Orlando</td>\n",
       "      <td>Women's Apparel</td>\n",
       "      <td>103.00</td>\n",
       "      <td>218</td>\n",
       "      <td>2245</td>\n",
       "      <td>1257</td>\n",
       "      <td>Online</td>\n",
       "    </tr>\n",
       "    <tr>\n",
       "      <th>1</th>\n",
       "      <td>West Gear</td>\n",
       "      <td>1128299</td>\n",
       "      <td>7/16/2021</td>\n",
       "      <td>South</td>\n",
       "      <td>Louisiana</td>\n",
       "      <td>New Orleans</td>\n",
       "      <td>Women's Apparel</td>\n",
       "      <td>103.00</td>\n",
       "      <td>163</td>\n",
       "      <td>1679</td>\n",
       "      <td>806</td>\n",
       "      <td>Online</td>\n",
       "    </tr>\n",
       "    <tr>\n",
       "      <th>2</th>\n",
       "      <td>Sports Direct</td>\n",
       "      <td>1197831</td>\n",
       "      <td>8/25/2021</td>\n",
       "      <td>South</td>\n",
       "      <td>Alabama</td>\n",
       "      <td>Birmingham</td>\n",
       "      <td>Men's Street Footwear</td>\n",
       "      <td>10.00</td>\n",
       "      <td>700</td>\n",
       "      <td>7000</td>\n",
       "      <td>3150</td>\n",
       "      <td>Outlet</td>\n",
       "    </tr>\n",
       "    <tr>\n",
       "      <th>3</th>\n",
       "      <td>Sports Direct</td>\n",
       "      <td>1197831</td>\n",
       "      <td>8/27/2021</td>\n",
       "      <td>South</td>\n",
       "      <td>Alabama</td>\n",
       "      <td>Birmingham</td>\n",
       "      <td>Women's Street Footwear</td>\n",
       "      <td>15.00</td>\n",
       "      <td>575</td>\n",
       "      <td>8625</td>\n",
       "      <td>3881</td>\n",
       "      <td>Outlet</td>\n",
       "    </tr>\n",
       "    <tr>\n",
       "      <th>4</th>\n",
       "      <td>Sports Direct</td>\n",
       "      <td>1197831</td>\n",
       "      <td>8/21/2021</td>\n",
       "      <td>South</td>\n",
       "      <td>Alabama</td>\n",
       "      <td>Birmingham</td>\n",
       "      <td>Women's Street Footwear</td>\n",
       "      <td>15.00</td>\n",
       "      <td>475</td>\n",
       "      <td>7125</td>\n",
       "      <td>3206</td>\n",
       "      <td>Outlet</td>\n",
       "    </tr>\n",
       "  </tbody>\n",
       "</table>\n",
       "</div>"
      ],
      "text/plain": [
       "        Retailer  Retailer ID Invoice Date     Region      State         City  \\\n",
       "0        Walmart      1128299    6/17/2021  Southeast    Florida      Orlando   \n",
       "1      West Gear      1128299    7/16/2021      South  Louisiana  New Orleans   \n",
       "2  Sports Direct      1197831    8/25/2021      South    Alabama   Birmingham   \n",
       "3  Sports Direct      1197831    8/27/2021      South    Alabama   Birmingham   \n",
       "4  Sports Direct      1197831    8/21/2021      South    Alabama   Birmingham   \n",
       "\n",
       "                   Product Price per Unit Units Sold Total Sales  \\\n",
       "0          Women's Apparel        103.00         218        2245   \n",
       "1          Women's Apparel        103.00         163        1679   \n",
       "2    Men's Street Footwear         10.00         700        7000   \n",
       "3  Women's Street Footwear         15.00         575        8625   \n",
       "4  Women's Street Footwear         15.00         475        7125   \n",
       "\n",
       "  Operating Profit Sales Method  \n",
       "0            1257        Online  \n",
       "1             806        Online  \n",
       "2            3150        Outlet  \n",
       "3            3881        Outlet  \n",
       "4            3206        Outlet  "
      ]
     },
     "execution_count": 91,
     "metadata": {},
     "output_type": "execute_result"
    }
   ],
   "source": [
    "# drop , from Total Sales and Operating Profit and Units Sold\n",
    "data['Total Sales'] = data['Total Sales'].str.replace(',', '')\n",
    "data['Operating Profit'] = data['Operating Profit'].str.replace(',', '')\n",
    "data['Units Sold'] = data['Units Sold'].str.replace(',', '')\n",
    "data.head()"
   ]
  },
  {
   "cell_type": "code",
   "execution_count": 92,
   "id": "162fca91",
   "metadata": {},
   "outputs": [],
   "source": [
    "# change data type\n",
    "data = data.astype({\n",
    "    'Retailer ID': 'str',\n",
    "    'Price per Unit': 'float64',\n",
    "    'Units Sold': 'float64',\n",
    "    'Total Sales': 'float64',\n",
    "    'Operating Profit': 'float64'\n",
    "})"
   ]
  },
  {
   "cell_type": "code",
   "execution_count": 93,
   "id": "55d4c29a",
   "metadata": {
    "execution": {
     "iopub.execute_input": "2024-11-27T19:36:00.393128Z",
     "iopub.status.busy": "2024-11-27T19:36:00.392743Z",
     "iopub.status.idle": "2024-11-27T19:36:00.401002Z",
     "shell.execute_reply": "2024-11-27T19:36:00.400067Z"
    },
    "papermill": {
     "duration": 0.024353,
     "end_time": "2024-11-27T19:36:00.402952",
     "exception": false,
     "start_time": "2024-11-27T19:36:00.378599",
     "status": "completed"
    },
    "tags": []
   },
   "outputs": [
    {
     "data": {
      "text/plain": [
       "np.False_"
      ]
     },
     "execution_count": 93,
     "metadata": {},
     "output_type": "execute_result"
    }
   ],
   "source": [
    "data.duplicated().any()"
   ]
  },
  {
   "cell_type": "code",
   "execution_count": 94,
   "id": "f47f7395",
   "metadata": {
    "execution": {
     "iopub.execute_input": "2024-11-27T19:36:00.430256Z",
     "iopub.status.busy": "2024-11-27T19:36:00.429886Z",
     "iopub.status.idle": "2024-11-27T19:36:00.449731Z",
     "shell.execute_reply": "2024-11-27T19:36:00.448701Z"
    },
    "papermill": {
     "duration": 0.036292,
     "end_time": "2024-11-27T19:36:00.452186",
     "exception": false,
     "start_time": "2024-11-27T19:36:00.415894",
     "status": "completed"
    },
    "tags": []
   },
   "outputs": [
    {
     "data": {
      "text/html": [
       "<div>\n",
       "<style scoped>\n",
       "    .dataframe tbody tr th:only-of-type {\n",
       "        vertical-align: middle;\n",
       "    }\n",
       "\n",
       "    .dataframe tbody tr th {\n",
       "        vertical-align: top;\n",
       "    }\n",
       "\n",
       "    .dataframe thead th {\n",
       "        text-align: right;\n",
       "    }\n",
       "</style>\n",
       "<table border=\"1\" class=\"dataframe\">\n",
       "  <thead>\n",
       "    <tr style=\"text-align: right;\">\n",
       "      <th></th>\n",
       "      <th>Price per Unit</th>\n",
       "      <th>Units Sold</th>\n",
       "      <th>Total Sales</th>\n",
       "      <th>Operating Profit</th>\n",
       "    </tr>\n",
       "  </thead>\n",
       "  <tbody>\n",
       "    <tr>\n",
       "      <th>count</th>\n",
       "      <td>9639.000000</td>\n",
       "      <td>9639.000000</td>\n",
       "      <td>9639.000000</td>\n",
       "      <td>9639.000000</td>\n",
       "    </tr>\n",
       "    <tr>\n",
       "      <th>mean</th>\n",
       "      <td>45.212159</td>\n",
       "      <td>256.692707</td>\n",
       "      <td>9311.035066</td>\n",
       "      <td>3437.782343</td>\n",
       "    </tr>\n",
       "    <tr>\n",
       "      <th>std</th>\n",
       "      <td>14.705009</td>\n",
       "      <td>214.039689</td>\n",
       "      <td>14177.614533</td>\n",
       "      <td>5416.691094</td>\n",
       "    </tr>\n",
       "    <tr>\n",
       "      <th>min</th>\n",
       "      <td>7.000000</td>\n",
       "      <td>0.000000</td>\n",
       "      <td>0.000000</td>\n",
       "      <td>0.000000</td>\n",
       "    </tr>\n",
       "    <tr>\n",
       "      <th>25%</th>\n",
       "      <td>35.000000</td>\n",
       "      <td>106.000000</td>\n",
       "      <td>425.000000</td>\n",
       "      <td>192.000000</td>\n",
       "    </tr>\n",
       "    <tr>\n",
       "      <th>50%</th>\n",
       "      <td>45.000000</td>\n",
       "      <td>176.000000</td>\n",
       "      <td>957.000000</td>\n",
       "      <td>436.000000</td>\n",
       "    </tr>\n",
       "    <tr>\n",
       "      <th>75%</th>\n",
       "      <td>55.000000</td>\n",
       "      <td>350.000000</td>\n",
       "      <td>15000.000000</td>\n",
       "      <td>5200.000000</td>\n",
       "    </tr>\n",
       "    <tr>\n",
       "      <th>max</th>\n",
       "      <td>110.000000</td>\n",
       "      <td>1275.000000</td>\n",
       "      <td>82500.000000</td>\n",
       "      <td>39000.000000</td>\n",
       "    </tr>\n",
       "  </tbody>\n",
       "</table>\n",
       "</div>"
      ],
      "text/plain": [
       "       Price per Unit   Units Sold   Total Sales  Operating Profit\n",
       "count     9639.000000  9639.000000   9639.000000       9639.000000\n",
       "mean        45.212159   256.692707   9311.035066       3437.782343\n",
       "std         14.705009   214.039689  14177.614533       5416.691094\n",
       "min          7.000000     0.000000      0.000000          0.000000\n",
       "25%         35.000000   106.000000    425.000000        192.000000\n",
       "50%         45.000000   176.000000    957.000000        436.000000\n",
       "75%         55.000000   350.000000  15000.000000       5200.000000\n",
       "max        110.000000  1275.000000  82500.000000      39000.000000"
      ]
     },
     "execution_count": 94,
     "metadata": {},
     "output_type": "execute_result"
    }
   ],
   "source": [
    "data.describe()"
   ]
  },
  {
   "cell_type": "code",
   "execution_count": 95,
   "id": "ce30195a",
   "metadata": {
    "execution": {
     "iopub.execute_input": "2024-11-27T19:36:00.481213Z",
     "iopub.status.busy": "2024-11-27T19:36:00.480828Z",
     "iopub.status.idle": "2024-11-27T19:36:00.499773Z",
     "shell.execute_reply": "2024-11-27T19:36:00.498579Z"
    },
    "papermill": {
     "duration": 0.036332,
     "end_time": "2024-11-27T19:36:00.501858",
     "exception": false,
     "start_time": "2024-11-27T19:36:00.465526",
     "status": "completed"
    },
    "tags": []
   },
   "outputs": [
    {
     "data": {
      "text/html": [
       "<div>\n",
       "<style scoped>\n",
       "    .dataframe tbody tr th:only-of-type {\n",
       "        vertical-align: middle;\n",
       "    }\n",
       "\n",
       "    .dataframe tbody tr th {\n",
       "        vertical-align: top;\n",
       "    }\n",
       "\n",
       "    .dataframe thead th {\n",
       "        text-align: right;\n",
       "    }\n",
       "</style>\n",
       "<table border=\"1\" class=\"dataframe\">\n",
       "  <thead>\n",
       "    <tr style=\"text-align: right;\">\n",
       "      <th></th>\n",
       "      <th>Retailer</th>\n",
       "      <th>Retailer ID</th>\n",
       "      <th>Invoice Date</th>\n",
       "      <th>Region</th>\n",
       "      <th>State</th>\n",
       "      <th>City</th>\n",
       "      <th>Product</th>\n",
       "      <th>Sales Method</th>\n",
       "    </tr>\n",
       "  </thead>\n",
       "  <tbody>\n",
       "    <tr>\n",
       "      <th>count</th>\n",
       "      <td>9639</td>\n",
       "      <td>9639</td>\n",
       "      <td>9639</td>\n",
       "      <td>9639</td>\n",
       "      <td>9639</td>\n",
       "      <td>9639</td>\n",
       "      <td>9639</td>\n",
       "      <td>9639</td>\n",
       "    </tr>\n",
       "    <tr>\n",
       "      <th>unique</th>\n",
       "      <td>6</td>\n",
       "      <td>4</td>\n",
       "      <td>724</td>\n",
       "      <td>5</td>\n",
       "      <td>50</td>\n",
       "      <td>52</td>\n",
       "      <td>7</td>\n",
       "      <td>3</td>\n",
       "    </tr>\n",
       "    <tr>\n",
       "      <th>top</th>\n",
       "      <td>Foot Locker</td>\n",
       "      <td>1185732</td>\n",
       "      <td>1/17/2021</td>\n",
       "      <td>West</td>\n",
       "      <td>California</td>\n",
       "      <td>Portland</td>\n",
       "      <td>Men's Street Footwear</td>\n",
       "      <td>Online</td>\n",
       "    </tr>\n",
       "    <tr>\n",
       "      <th>freq</th>\n",
       "      <td>2633</td>\n",
       "      <td>5261</td>\n",
       "      <td>77</td>\n",
       "      <td>2446</td>\n",
       "      <td>430</td>\n",
       "      <td>360</td>\n",
       "      <td>1610</td>\n",
       "      <td>4889</td>\n",
       "    </tr>\n",
       "  </tbody>\n",
       "</table>\n",
       "</div>"
      ],
      "text/plain": [
       "           Retailer Retailer ID Invoice Date Region       State      City  \\\n",
       "count          9639        9639         9639   9639        9639      9639   \n",
       "unique            6           4          724      5          50        52   \n",
       "top     Foot Locker     1185732    1/17/2021   West  California  Portland   \n",
       "freq           2633        5261           77   2446         430       360   \n",
       "\n",
       "                      Product Sales Method  \n",
       "count                    9639         9639  \n",
       "unique                      7            3  \n",
       "top     Men's Street Footwear       Online  \n",
       "freq                     1610         4889  "
      ]
     },
     "execution_count": 95,
     "metadata": {},
     "output_type": "execute_result"
    }
   ],
   "source": [
    "data.describe(include= object)"
   ]
  },
  {
   "cell_type": "code",
   "execution_count": 96,
   "id": "976451af",
   "metadata": {
    "execution": {
     "iopub.execute_input": "2024-11-27T19:36:00.655056Z",
     "iopub.status.busy": "2024-11-27T19:36:00.654620Z",
     "iopub.status.idle": "2024-11-27T19:36:00.660805Z",
     "shell.execute_reply": "2024-11-27T19:36:00.659789Z"
    },
    "papermill": {
     "duration": 0.023419,
     "end_time": "2024-11-27T19:36:00.662921",
     "exception": false,
     "start_time": "2024-11-27T19:36:00.639502",
     "status": "completed"
    },
    "tags": []
   },
   "outputs": [],
   "source": [
    "def count_plot(x_axis = None, y_axis = None, Hue = None, top = None):\n",
    "    \n",
    "    if x_axis :\n",
    "        order = data[x_axis].value_counts()[:top].index\n",
    "        \n",
    "    else:\n",
    "        order = data[y_axis].value_counts()[:top].index\n",
    "        \n",
    "    graph = sns.countplot(x = x_axis, y= y_axis, data = data, hue = Hue, order = order)\n",
    "    \n",
    "    for value in graph.containers:\n",
    "        graph.bar_label(value)\n",
    "        \n",
    "    plt.show()\n",
    "    "
   ]
  },
  {
   "cell_type": "code",
   "execution_count": 97,
   "id": "9011dff9",
   "metadata": {
    "execution": {
     "iopub.execute_input": "2024-11-27T19:36:00.692399Z",
     "iopub.status.busy": "2024-11-27T19:36:00.692024Z",
     "iopub.status.idle": "2024-11-27T19:36:00.697731Z",
     "shell.execute_reply": "2024-11-27T19:36:00.696741Z"
    },
    "papermill": {
     "duration": 0.022824,
     "end_time": "2024-11-27T19:36:00.699781",
     "exception": false,
     "start_time": "2024-11-27T19:36:00.676957",
     "status": "completed"
    },
    "tags": []
   },
   "outputs": [],
   "source": [
    "def box_plot(x_axis = None, y_axis = None):\n",
    "    \n",
    "    sns.boxplot(x = x_axis, y = y_axis , data = data)\n",
    "    \n",
    "    if x_axis:\n",
    "        plt.ylabel(x_axis)\n",
    "        plt.xlabel(\"distribution\")\n",
    "        \n",
    "    else:\n",
    "        plt.xlabel(y_axis)\n",
    "        plt.ylabel(\"distribution\")\n",
    "    \n",
    "    plt.show()"
   ]
  },
  {
   "cell_type": "code",
   "execution_count": 98,
   "id": "9a15989f",
   "metadata": {
    "execution": {
     "iopub.execute_input": "2024-11-27T19:36:00.729460Z",
     "iopub.status.busy": "2024-11-27T19:36:00.729100Z",
     "iopub.status.idle": "2024-11-27T19:36:00.734942Z",
     "shell.execute_reply": "2024-11-27T19:36:00.733954Z"
    },
    "papermill": {
     "duration": 0.023559,
     "end_time": "2024-11-27T19:36:00.737170",
     "exception": false,
     "start_time": "2024-11-27T19:36:00.713611",
     "status": "completed"
    },
    "tags": []
   },
   "outputs": [],
   "source": [
    "def pie_plot(column_name, explodeIndex = None):\n",
    "    \n",
    "    label = data[column_name].value_counts().index\n",
    "    \n",
    "    FRQ = data[column_name].value_counts()\n",
    "    \n",
    "    explodeList = [0] * data[column_name].nunique()  # [0,0]\n",
    "    \n",
    "    if explodeIndex is not None :\n",
    "        explodeList[explodeIndex] = 0.1\n",
    "    \n",
    "    plt.pie(FRQ, labels = label, autopct= \"%1.1f%%\", shadow= True, explode = explodeList)\n",
    "    \n",
    "    plt.show()\n",
    "    \n",
    "    "
   ]
  },
  {
   "cell_type": "code",
   "execution_count": 99,
   "id": "fd58cf0b",
   "metadata": {},
   "outputs": [],
   "source": [
    "def info(column_name):\n",
    "    \n",
    "    print(f\"Number of nuique values is {data[column_name].nunique()}\")\n",
    "    \n",
    "    print(\"-\" * 15)\n",
    "    \n",
    "    print(f\"unique values is: {data[column_name].unique()}\")"
   ]
  },
  {
   "cell_type": "code",
   "execution_count": 100,
   "id": "935f814a",
   "metadata": {},
   "outputs": [
    {
     "data": {
      "text/html": [
       "<div>\n",
       "<style scoped>\n",
       "    .dataframe tbody tr th:only-of-type {\n",
       "        vertical-align: middle;\n",
       "    }\n",
       "\n",
       "    .dataframe tbody tr th {\n",
       "        vertical-align: top;\n",
       "    }\n",
       "\n",
       "    .dataframe thead th {\n",
       "        text-align: right;\n",
       "    }\n",
       "</style>\n",
       "<table border=\"1\" class=\"dataframe\">\n",
       "  <thead>\n",
       "    <tr style=\"text-align: right;\">\n",
       "      <th></th>\n",
       "      <th>Retailer</th>\n",
       "      <th>Retailer ID</th>\n",
       "      <th>Invoice Date</th>\n",
       "      <th>Region</th>\n",
       "      <th>State</th>\n",
       "      <th>City</th>\n",
       "      <th>Product</th>\n",
       "      <th>Price per Unit</th>\n",
       "      <th>Units Sold</th>\n",
       "      <th>Total Sales</th>\n",
       "      <th>Operating Profit</th>\n",
       "      <th>Sales Method</th>\n",
       "    </tr>\n",
       "  </thead>\n",
       "  <tbody>\n",
       "    <tr>\n",
       "      <th>2985</th>\n",
       "      <td>West Gear</td>\n",
       "      <td>1128299</td>\n",
       "      <td>8/2/2020</td>\n",
       "      <td>West</td>\n",
       "      <td>Washington</td>\n",
       "      <td>Seattle</td>\n",
       "      <td>Women's Street Footwear</td>\n",
       "      <td>73.0</td>\n",
       "      <td>138.0</td>\n",
       "      <td>1007.0</td>\n",
       "      <td>393.0</td>\n",
       "      <td>Online</td>\n",
       "    </tr>\n",
       "  </tbody>\n",
       "</table>\n",
       "</div>"
      ],
      "text/plain": [
       "       Retailer Retailer ID Invoice Date Region       State     City  \\\n",
       "2985  West Gear     1128299     8/2/2020   West  Washington  Seattle   \n",
       "\n",
       "                      Product  Price per Unit  Units Sold  Total Sales  \\\n",
       "2985  Women's Street Footwear            73.0       138.0       1007.0   \n",
       "\n",
       "      Operating Profit Sales Method  \n",
       "2985             393.0       Online  "
      ]
     },
     "execution_count": 100,
     "metadata": {},
     "output_type": "execute_result"
    }
   ],
   "source": [
    "data.sample()"
   ]
  },
  {
   "cell_type": "markdown",
   "id": "666fd70c",
   "metadata": {},
   "source": [
    "### Discovering `Retailer` Column"
   ]
  },
  {
   "cell_type": "code",
   "execution_count": 101,
   "id": "95459bb5",
   "metadata": {},
   "outputs": [
    {
     "name": "stdout",
     "output_type": "stream",
     "text": [
      "Number of nuique values is 6\n",
      "---------------\n",
      "unique values is: ['Walmart' 'West Gear' 'Sports Direct' 'Foot Locker' 'Amazon' \"Kohl's\"]\n"
     ]
    }
   ],
   "source": [
    "# see number of unique values\n",
    "\n",
    "info(\"Retailer\")"
   ]
  },
  {
   "cell_type": "code",
   "execution_count": 102,
   "id": "7204f64c",
   "metadata": {},
   "outputs": [
    {
     "data": {
      "image/png": "[encoded data removed]",
      "text/plain": [
       "<Figure size 1600x600 with 1 Axes>"
      ]
     },
     "metadata": {},
     "output_type": "display_data"
    }
   ],
   "source": [
    "plt.figure(figsize= (16, 6))\n",
    "\n",
    "count_plot(x_axis= \"Retailer\")"
   ]
  },
  {
   "cell_type": "markdown",
   "id": "e665b105",
   "metadata": {
    "papermill": {
     "duration": 0.013498,
     "end_time": "2024-11-27T19:36:00.764628",
     "exception": false,
     "start_time": "2024-11-27T19:36:00.751130",
     "status": "completed"
    },
    "tags": []
   },
   "source": [
    "### Discovering `Region` Column"
   ]
  },
  {
   "cell_type": "code",
   "execution_count": 103,
   "id": "14f68868",
   "metadata": {
    "execution": {
     "iopub.execute_input": "2024-11-27T19:36:00.794536Z",
     "iopub.status.busy": "2024-11-27T19:36:00.793620Z",
     "iopub.status.idle": "2024-11-27T19:36:00.800851Z",
     "shell.execute_reply": "2024-11-27T19:36:00.799820Z"
    },
    "papermill": {
     "duration": 0.024369,
     "end_time": "2024-11-27T19:36:00.802903",
     "exception": false,
     "start_time": "2024-11-27T19:36:00.778534",
     "status": "completed"
    },
    "tags": []
   },
   "outputs": [
    {
     "name": "stdout",
     "output_type": "stream",
     "text": [
      "Number of nuique values is 5\n",
      "---------------\n",
      "unique values is: ['Southeast' 'South' 'Midwest' 'Northeast' 'West']\n"
     ]
    }
   ],
   "source": [
    "# see number of unique values\n",
    "\n",
    "info(\"Region\")"
   ]
  },
  {
   "cell_type": "code",
   "execution_count": 104,
   "id": "165bd3bd",
   "metadata": {
    "execution": {
     "iopub.execute_input": "2024-11-27T19:36:00.871235Z",
     "iopub.status.busy": "2024-11-27T19:36:00.870861Z",
     "iopub.status.idle": "2024-11-27T19:36:01.031250Z",
     "shell.execute_reply": "2024-11-27T19:36:01.030050Z"
    },
    "papermill": {
     "duration": 0.178524,
     "end_time": "2024-11-27T19:36:01.034169",
     "exception": false,
     "start_time": "2024-11-27T19:36:00.855645",
     "status": "completed"
    },
    "tags": []
   },
   "outputs": [
    {
     "data": {
      "image/png": "[encoded data removed]",
      "text/plain": [
       "<Figure size 640x480 with 1 Axes>"
      ]
     },
     "metadata": {},
     "output_type": "display_data"
    }
   ],
   "source": [
    "pie_plot(column_name= \"Region\", explodeIndex= 0)"
   ]
  },
  {
   "cell_type": "markdown",
   "id": "5eeb622e",
   "metadata": {},
   "source": [
    "### Discovering `Product` Column"
   ]
  },
  {
   "cell_type": "code",
   "execution_count": 105,
   "id": "2c376b28",
   "metadata": {},
   "outputs": [
    {
     "name": "stdout",
     "output_type": "stream",
     "text": [
      "Number of nuique values is 7\n",
      "---------------\n",
      "unique values is: [\"Women's Apparel\" \"Men's Street Footwear\" \"Women's Street Footwear\"\n",
      " \"Men's Athletic Footwear\" \"Women's Athletic Footwear\" \"Men's Apparel\"\n",
      " \"Men's aparel\"]\n"
     ]
    }
   ],
   "source": [
    "# see number of unique values\n",
    "\n",
    "info(\"Product\")"
   ]
  },
  {
   "cell_type": "code",
   "execution_count": 106,
   "id": "dea143d0",
   "metadata": {},
   "outputs": [],
   "source": [
    "data['Product'] = data['Product'].str.replace(\"Men's aparel\", \"Men's Apparel\")"
   ]
  },
  {
   "cell_type": "code",
   "execution_count": 107,
   "id": "fe23089a",
   "metadata": {},
   "outputs": [
    {
     "data": {
      "image/png": "[encoded data removed]",
      "text/plain": [
       "<Figure size 1600x600 with 1 Axes>"
      ]
     },
     "metadata": {},
     "output_type": "display_data"
    }
   ],
   "source": [
    "plt.figure(figsize= (16, 6))\n",
    "\n",
    "count_plot(x_axis= \"Product\")"
   ]
  },
  {
   "cell_type": "code",
   "execution_count": 108,
   "id": "9cfd8b9d",
   "metadata": {},
   "outputs": [
    {
     "data": {
      "text/html": [
       "<div>\n",
       "<style scoped>\n",
       "    .dataframe tbody tr th:only-of-type {\n",
       "        vertical-align: middle;\n",
       "    }\n",
       "\n",
       "    .dataframe tbody tr th {\n",
       "        vertical-align: top;\n",
       "    }\n",
       "\n",
       "    .dataframe thead th {\n",
       "        text-align: right;\n",
       "    }\n",
       "</style>\n",
       "<table border=\"1\" class=\"dataframe\">\n",
       "  <thead>\n",
       "    <tr style=\"text-align: right;\">\n",
       "      <th></th>\n",
       "      <th>Retailer</th>\n",
       "      <th>Retailer ID</th>\n",
       "      <th>Invoice Date</th>\n",
       "      <th>Region</th>\n",
       "      <th>State</th>\n",
       "      <th>City</th>\n",
       "      <th>Product</th>\n",
       "      <th>Price per Unit</th>\n",
       "      <th>Units Sold</th>\n",
       "      <th>Total Sales</th>\n",
       "      <th>Operating Profit</th>\n",
       "      <th>Sales Method</th>\n",
       "    </tr>\n",
       "  </thead>\n",
       "  <tbody>\n",
       "    <tr>\n",
       "      <th>3618</th>\n",
       "      <td>Foot Locker</td>\n",
       "      <td>1185732</td>\n",
       "      <td>11/9/2021</td>\n",
       "      <td>Northeast</td>\n",
       "      <td>Pennsylvania</td>\n",
       "      <td>Philadelphia</td>\n",
       "      <td>Men's Street Footwear</td>\n",
       "      <td>46.0</td>\n",
       "      <td>122.0</td>\n",
       "      <td>561.0</td>\n",
       "      <td>354.0</td>\n",
       "      <td>Online</td>\n",
       "    </tr>\n",
       "  </tbody>\n",
       "</table>\n",
       "</div>"
      ],
      "text/plain": [
       "         Retailer Retailer ID Invoice Date     Region         State  \\\n",
       "3618  Foot Locker     1185732    11/9/2021  Northeast  Pennsylvania   \n",
       "\n",
       "              City                Product  Price per Unit  Units Sold  \\\n",
       "3618  Philadelphia  Men's Street Footwear            46.0       122.0   \n",
       "\n",
       "      Total Sales  Operating Profit Sales Method  \n",
       "3618        561.0             354.0       Online  "
      ]
     },
     "execution_count": 108,
     "metadata": {},
     "output_type": "execute_result"
    }
   ],
   "source": [
    "data.sample()"
   ]
  },
  {
   "cell_type": "code",
   "execution_count": 109,
   "id": "6fb65efb",
   "metadata": {},
   "outputs": [
    {
     "data": {
      "image/png": "[encoded data removed]",
      "text/plain": [
       "<Figure size 640x480 with 1 Axes>"
      ]
     },
     "metadata": {},
     "output_type": "display_data"
    }
   ],
   "source": [
    "box_plot(y_axis=\"Price per Unit\")"
   ]
  },
  {
   "cell_type": "code",
   "execution_count": 110,
   "id": "3a2e1f79",
   "metadata": {},
   "outputs": [
    {
     "data": {
      "image/png": "[encoded data removed]",
      "text/plain": [
       "<Figure size 640x480 with 1 Axes>"
      ]
     },
     "metadata": {},
     "output_type": "display_data"
    }
   ],
   "source": [
    "box_plot(y_axis=\"Units Sold\")"
   ]
  },
  {
   "cell_type": "code",
   "execution_count": 111,
   "id": "a0fa618e",
   "metadata": {},
   "outputs": [
    {
     "data": {
      "image/png": "[encoded data removed]",
      "text/plain": [
       "<Figure size 640x480 with 1 Axes>"
      ]
     },
     "metadata": {},
     "output_type": "display_data"
    }
   ],
   "source": [
    "box_plot(y_axis=\"Total Sales\")"
   ]
  },
  {
   "cell_type": "code",
   "execution_count": 112,
   "id": "cfdf0361",
   "metadata": {},
   "outputs": [
    {
     "data": {
      "image/png": "[encoded data removed]",
      "text/plain": [
       "<Figure size 640x480 with 1 Axes>"
      ]
     },
     "metadata": {},
     "output_type": "display_data"
    }
   ],
   "source": [
    "box_plot(y_axis=\"Operating Profit\")"
   ]
  },
  {
   "cell_type": "markdown",
   "id": "381bd23d",
   "metadata": {
    "papermill": {
     "duration": 0.026435,
     "end_time": "2024-11-27T19:36:01.087608",
     "exception": false,
     "start_time": "2024-11-27T19:36:01.061173",
     "status": "completed"
    },
    "tags": []
   },
   "source": [
    "## Discovering `Sales Method` Column"
   ]
  },
  {
   "cell_type": "code",
   "execution_count": 113,
   "id": "a9d5e227",
   "metadata": {
    "execution": {
     "iopub.execute_input": "2024-11-27T19:36:01.129089Z",
     "iopub.status.busy": "2024-11-27T19:36:01.128199Z",
     "iopub.status.idle": "2024-11-27T19:36:01.135054Z",
     "shell.execute_reply": "2024-11-27T19:36:01.134086Z"
    },
    "papermill": {
     "duration": 0.024129,
     "end_time": "2024-11-27T19:36:01.137015",
     "exception": false,
     "start_time": "2024-11-27T19:36:01.112886",
     "status": "completed"
    },
    "tags": []
   },
   "outputs": [
    {
     "name": "stdout",
     "output_type": "stream",
     "text": [
      "Number of nuique values is 3\n",
      "---------------\n",
      "unique values is: ['Online' 'Outlet' 'In-store']\n"
     ]
    }
   ],
   "source": [
    "info(\"Sales Method\")"
   ]
  },
  {
   "cell_type": "code",
   "execution_count": 114,
   "id": "1cf38fe6",
   "metadata": {
    "execution": {
     "iopub.execute_input": "2024-11-27T19:36:01.209748Z",
     "iopub.status.busy": "2024-11-27T19:36:01.209037Z",
     "iopub.status.idle": "2024-11-27T19:36:01.375830Z",
     "shell.execute_reply": "2024-11-27T19:36:01.374787Z"
    },
    "papermill": {
     "duration": 0.185545,
     "end_time": "2024-11-27T19:36:01.378823",
     "exception": false,
     "start_time": "2024-11-27T19:36:01.193278",
     "status": "completed"
    },
    "tags": []
   },
   "outputs": [
    {
     "data": {
      "image/png": "[encoded data removed]",
      "text/plain": [
       "<Figure size 640x480 with 1 Axes>"
      ]
     },
     "metadata": {},
     "output_type": "display_data"
    }
   ],
   "source": [
    "pie_plot(\"Sales Method\", explodeIndex= 0)"
   ]
  },
  {
   "cell_type": "code",
   "execution_count": 115,
   "id": "ef56645e",
   "metadata": {},
   "outputs": [
    {
     "name": "stdout",
     "output_type": "stream",
     "text": [
      "Number of nuique values is 6\n",
      "---------------\n",
      "unique values is: [\"Women's Apparel\" \"Men's Street Footwear\" \"Women's Street Footwear\"\n",
      " \"Men's Athletic Footwear\" \"Women's Athletic Footwear\" \"Men's Apparel\"]\n"
     ]
    }
   ],
   "source": [
    "info('Product')"
   ]
  },
  {
   "cell_type": "code",
   "execution_count": 116,
   "id": "4c9feeba",
   "metadata": {},
   "outputs": [
    {
     "data": {
      "image/png": "[encoded data removed]",
      "text/plain": [
       "<Figure size 1600x600 with 1 Axes>"
      ]
     },
     "metadata": {},
     "output_type": "display_data"
    }
   ],
   "source": [
    "plt.figure(figsize= (16, 6))\n",
    "count_plot(x_axis= \"Retailer\", Hue= \"Product\")"
   ]
  },
  {
   "cell_type": "code",
   "execution_count": 117,
   "id": "e3af293e",
   "metadata": {},
   "outputs": [
    {
     "data": {
      "text/html": [
       "<div>\n",
       "<style scoped>\n",
       "    .dataframe tbody tr th:only-of-type {\n",
       "        vertical-align: middle;\n",
       "    }\n",
       "\n",
       "    .dataframe tbody tr th {\n",
       "        vertical-align: top;\n",
       "    }\n",
       "\n",
       "    .dataframe thead th {\n",
       "        text-align: right;\n",
       "    }\n",
       "</style>\n",
       "<table border=\"1\" class=\"dataframe\">\n",
       "  <thead>\n",
       "    <tr style=\"text-align: right;\">\n",
       "      <th></th>\n",
       "      <th>Retailer</th>\n",
       "      <th>Retailer ID</th>\n",
       "      <th>Invoice Date</th>\n",
       "      <th>Region</th>\n",
       "      <th>State</th>\n",
       "      <th>City</th>\n",
       "      <th>Product</th>\n",
       "      <th>Price per Unit</th>\n",
       "      <th>Units Sold</th>\n",
       "      <th>Total Sales</th>\n",
       "      <th>Operating Profit</th>\n",
       "      <th>Sales Method</th>\n",
       "    </tr>\n",
       "  </thead>\n",
       "  <tbody>\n",
       "    <tr>\n",
       "      <th>654</th>\n",
       "      <td>Walmart</td>\n",
       "      <td>1197831</td>\n",
       "      <td>10/20/2020</td>\n",
       "      <td>South</td>\n",
       "      <td>Texas</td>\n",
       "      <td>Houston</td>\n",
       "      <td>Men's Street Footwear</td>\n",
       "      <td>43.0</td>\n",
       "      <td>234.0</td>\n",
       "      <td>1006.0</td>\n",
       "      <td>493.0</td>\n",
       "      <td>Online</td>\n",
       "    </tr>\n",
       "  </tbody>\n",
       "</table>\n",
       "</div>"
      ],
      "text/plain": [
       "    Retailer Retailer ID Invoice Date Region  State     City  \\\n",
       "654  Walmart     1197831   10/20/2020  South  Texas  Houston   \n",
       "\n",
       "                   Product  Price per Unit  Units Sold  Total Sales  \\\n",
       "654  Men's Street Footwear            43.0       234.0       1006.0   \n",
       "\n",
       "     Operating Profit Sales Method  \n",
       "654             493.0       Online  "
      ]
     },
     "execution_count": 117,
     "metadata": {},
     "output_type": "execute_result"
    }
   ],
   "source": [
    "data.sample()"
   ]
  },
  {
   "cell_type": "code",
   "execution_count": 118,
   "id": "621d3764",
   "metadata": {},
   "outputs": [
    {
     "data": {
      "image/png": "[encoded data removed]",
      "text/plain": [
       "<Figure size 1600x600 with 1 Axes>"
      ]
     },
     "metadata": {},
     "output_type": "display_data"
    }
   ],
   "source": [
    "plt.figure(figsize= (16, 6))\n",
    "count_plot(x_axis= \"Region\", Hue= \"Sales Method\")"
   ]
  }
 ],
 "metadata": {
  "kaggle": {
   "accelerator": "none",
   "dataSources": [
    {
     "datasetId": 6179719,
     "sourceId": 10033297,
     "sourceType": "datasetVersion"
    }
   ],
   "dockerImageVersionId": 30786,
   "isGpuEnabled": false,
   "isInternetEnabled": true,
   "language": "python",
   "sourceType": "notebook"
  },
  "kernelspec": {
   "display_name": "Python (myenv)",
   "language": "python",
   "name": "myenv"
  },
  "language_info": {
   "codemirror_mode": {
    "name": "ipython",
    "version": 3
   },
   "file_extension": ".py",
   "mimetype": "text/x-python",
   "name": "python",
   "nbconvert_exporter": "python",
   "pygments_lexer": "ipython3",
   "version": "3.12.8"
  },
  "papermill": {
   "default_parameters": {},
   "duration": 13.435222,
   "end_time": "2024-11-27T19:36:07.890845",
   "environment_variables": {},
   "exception": null,
   "input_path": "__notebook__.ipynb",
   "output_path": "__notebook__.ipynb",
   "parameters": {},
   "start_time": "2024-11-27T19:35:54.455623",
   "version": "2.6.0"
  }
 },
 "nbformat": 4,
 "nbformat_minor": 5
}
